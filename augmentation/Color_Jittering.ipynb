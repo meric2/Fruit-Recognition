{
 "cells": [
  {
   "cell_type": "code",
   "execution_count": 1,
   "metadata": {},
   "outputs": [],
   "source": [
    "import os\n",
    "\n",
    "def count_images_in_folder(folder_path, image_extensions=['.jpg', '.jpeg', '.png', '.gif', '.bmp']):\n",
    "    image_count = 0\n",
    "\n",
    "    # Check if the folder exists\n",
    "    if os.path.exists(folder_path) and os.path.isdir(folder_path):\n",
    "        # List all files in the folder\n",
    "        files = os.listdir(folder_path)\n",
    "\n",
    "        # Count the image files\n",
    "        for file in files:\n",
    "            if any(file.lower().endswith(ext) for ext in image_extensions):\n",
    "                image_count += 1\n",
    "    else:\n",
    "        print(f\"The folder {folder_path} does not exist.\")\n",
    "\n",
    "    return image_count"
   ]
  },
  {
   "cell_type": "code",
   "execution_count": 3,
   "metadata": {},
   "outputs": [
    {
     "name": "stdout",
     "output_type": "stream",
     "text": [
      "The folder data/cherry does not exist.\n"
     ]
    }
   ],
   "source": [
    "from PIL import Image, ImageEnhance\n",
    "import random\n",
    "import os\n",
    "\n",
    "def random_color_jitter(image, brightness_factor=0.5, contrast_factor=0.5, saturation_factor=0.5):\n",
    "    \"\"\"\n",
    "    Apply random color jittering to the image.\n",
    "\n",
    "    Parameters:\n",
    "    - image: PIL Image object\n",
    "    - brightness_factor: Random factor for brightness adjustment (default is 0.5)\n",
    "    - contrast_factor: Random factor for contrast adjustment (default is 0.5)\n",
    "    - saturation_factor: Random factor for saturation adjustment (default is 0.5)\n",
    "\n",
    "    Returns:\n",
    "    - Color-jittered PIL Image object\n",
    "    \"\"\"\n",
    "    # Convert the image to \"RGB\" mode\n",
    "    image = image.convert(\"RGB\")\n",
    "\n",
    "    # Adjust brightness\n",
    "    enhancer = ImageEnhance.Brightness(image)\n",
    "    image = enhancer.enhance(1 + random.uniform(-brightness_factor, brightness_factor))\n",
    "\n",
    "    # Adjust contrast\n",
    "    enhancer = ImageEnhance.Contrast(image)\n",
    "    image = enhancer.enhance(1 + random.uniform(-contrast_factor, contrast_factor))\n",
    "\n",
    "    # Adjust saturation\n",
    "    enhancer = ImageEnhance.Color(image)\n",
    "    image = enhancer.enhance(1 + random.uniform(-saturation_factor, saturation_factor))\n",
    "\n",
    "    return image\n",
    "\n",
    "def save_color_jittered_images(folder, image_path, image_order, num_jitterings=5):\n",
    "    # Create a new folder for color-jittered images\n",
    "    jitter_folder = os.path.join(folder, \"color_jitter\")\n",
    "    os.makedirs(jitter_folder, exist_ok=True)\n",
    "    \n",
    "    # Load the original image\n",
    "    original_image = Image.open(image_path)\n",
    "    \n",
    "    # Apply color jittering augmentations and save the images\n",
    "    for i in range(1, num_jitterings+1):\n",
    "        # Apply random color jittering\n",
    "        jittered_image = random_color_jitter(original_image)\n",
    "\n",
    "        # Save the jittered image\n",
    "        jittered_image_path = os.path.join(jitter_folder, f\"{image_order}_jittered_{i}.jpg\")\n",
    "        jittered_image.save(jittered_image_path)\n",
    "\n",
    "# Example Usage\n",
    "\n",
    "fruits = [\"apple\", \"banana\", \"carrot\", \"cherry\", \"coconut\", \"cucumber\", \"grapefruit\", \"kiwi\",\n",
    "    \"melon\", \"pear\", \"pineapple\", \"plum\", \"tomato\", \"watermelon\"]\n",
    "\n",
    "for fruit in fruits:\n",
    "    # Path to the folder containing the images\n",
    "    folder_path = f\"data/{fruit}\"\n",
    "\n",
    "    # Count the number of images in the folder\n",
    "    count = count_images_in_folder(folder_path)\n",
    "\n",
    "    for i in range(1, count+1):\n",
    "        image_path = f\"data/{fruit}/{fruit}_{i}.jpg\"\n",
    "        save_color_jittered_images(folder_path, image_path, image_order=i, num_jitterings=5)"
   ]
  },
  {
   "cell_type": "code",
   "execution_count": null,
   "metadata": {},
   "outputs": [],
   "source": []
  }
 ],
 "metadata": {
  "kernelspec": {
   "display_name": "Python 3",
   "language": "python",
   "name": "python3"
  },
  "language_info": {
   "codemirror_mode": {
    "name": "ipython",
    "version": 3
   },
   "file_extension": ".py",
   "mimetype": "text/x-python",
   "name": "python",
   "nbconvert_exporter": "python",
   "pygments_lexer": "ipython3",
   "version": "3.9.7"
  }
 },
 "nbformat": 4,
 "nbformat_minor": 2
}
