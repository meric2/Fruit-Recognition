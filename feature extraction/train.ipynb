{
 "cells": [
  {
   "cell_type": "code",
   "execution_count": 3,
   "metadata": {},
   "outputs": [],
   "source": [
    "import pandas as pd"
   ]
  },
  {
   "cell_type": "markdown",
   "metadata": {},
   "source": [
    "# SVM"
   ]
  },
  {
   "cell_type": "code",
   "execution_count": 4,
   "metadata": {},
   "outputs": [
    {
     "name": "stdout",
     "output_type": "stream",
     "text": [
      "data shape (5000, 70)\n",
      "Accuracy:  0.256\n",
      "Precision:  0.28837488958993784\n",
      "Recall:  0.256\n"
     ]
    }
   ],
   "source": [
    "dominant_color = pd.read_csv('dominant_colors.csv')\n",
    "histogram = pd.read_csv('histograms.csv')\n",
    "texture = pd.read_csv('texture_features.csv')\n",
    "labels = pd.read_csv('labels.csv')\n",
    "\n",
    "data = pd.concat([texture,dominant_color,histogram, labels], axis=1)\n",
    "\n",
    "random_10 = data['label'].unique().tolist()[5:15]\n",
    "data = data[data['label'].isin(random_10)]\n",
    "\n",
    "print(\"data shape\",data.shape)\n",
    "#train svm model\n",
    "from sklearn import svm\n",
    "from sklearn.model_selection import train_test_split\n",
    "from sklearn.metrics import accuracy_score\n",
    "\n",
    "X = data.drop('label', axis=1)\n",
    "y = data['label']\n",
    "\n",
    "X_train, X_test, y_train, y_test = train_test_split(X, y, test_size=0.1, random_state=42)\n",
    "\n",
    "clf = svm.SVC(kernel='rbf', C=100, gamma='auto')\n",
    "clf.fit(X_train, y_train)\n",
    "\n",
    "from sklearn.metrics import precision_score, recall_score\n",
    "\n",
    "y_pred = clf.predict(X_test)\n",
    "\n",
    "accuracy = accuracy_score(y_test, y_pred)\n",
    "print('Accuracy: ', accuracy)\n",
    "precision = precision_score(y_test, y_pred, average='weighted')\n",
    "print('Precision: ', precision)\n",
    "recall = recall_score(y_test, y_pred, average='weighted')\n",
    "print('Recall: ', recall)"
   ]
  },
  {
   "cell_type": "markdown",
   "metadata": {},
   "source": [
    "# RANDOM FOREST"
   ]
  },
  {
   "cell_type": "code",
   "execution_count": null,
   "metadata": {},
   "outputs": [],
   "source": []
  },
  {
   "cell_type": "code",
   "execution_count": null,
   "metadata": {},
   "outputs": [],
   "source": []
  },
  {
   "cell_type": "markdown",
   "metadata": {},
   "source": []
  }
 ],
 "metadata": {
  "kernelspec": {
   "display_name": "Python 3",
   "language": "python",
   "name": "python3"
  },
  "language_info": {
   "codemirror_mode": {
    "name": "ipython",
    "version": 3
   },
   "file_extension": ".py",
   "mimetype": "text/x-python",
   "name": "python",
   "nbconvert_exporter": "python",
   "pygments_lexer": "ipython3",
   "version": "3.9.7"
  }
 },
 "nbformat": 4,
 "nbformat_minor": 2
}
