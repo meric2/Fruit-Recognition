{
 "cells": [
  {
   "cell_type": "markdown",
   "id": "1fc08012",
   "metadata": {},
   "source": [
    "# Fruit-Vegetable Image Colorization  \n",
    "Emre Belikırık - 191401009  \n",
    "Zeynep Meriç Aşık - 201410026"
   ]
  },
  {
   "cell_type": "code",
   "execution_count": 1,
   "id": "5a0fe96d",
   "metadata": {},
   "outputs": [],
   "source": [
    "import pandas as pd\n",
    "import numpy as np\n",
    "..."
   ]
  },
  {
   "cell_type": "markdown",
   "id": "c6df0b91",
   "metadata": {},
   "source": [
    "## Data Preperation"
   ]
  },
  {
   "cell_type": "code",
   "execution_count": 2,
   "id": "eac0220e",
   "metadata": {},
   "outputs": [],
   "source": [
    "# load and convert images to white background, 128x128"
   ]
  },
  {
   "cell_type": "markdown",
   "id": "77c9c3b5",
   "metadata": {},
   "source": [
    "## Data Augmentation"
   ]
  },
  {
   "cell_type": "code",
   "execution_count": null,
   "id": "03f8c967",
   "metadata": {},
   "outputs": [],
   "source": []
  },
  {
   "cell_type": "markdown",
   "id": "42ff394e",
   "metadata": {},
   "source": [
    "# Model Train and Test"
   ]
  },
  {
   "cell_type": "code",
   "execution_count": null,
   "id": "8681e514",
   "metadata": {},
   "outputs": [],
   "source": []
  }
 ],
 "metadata": {
  "kernelspec": {
   "display_name": "Python 3 (ipykernel)",
   "language": "python",
   "name": "python3"
  },
  "language_info": {
   "codemirror_mode": {
    "name": "ipython",
    "version": 3
   },
   "file_extension": ".py",
   "mimetype": "text/x-python",
   "name": "python",
   "nbconvert_exporter": "python",
   "pygments_lexer": "ipython3",
   "version": "3.9.1"
  }
 },
 "nbformat": 4,
 "nbformat_minor": 5
}
